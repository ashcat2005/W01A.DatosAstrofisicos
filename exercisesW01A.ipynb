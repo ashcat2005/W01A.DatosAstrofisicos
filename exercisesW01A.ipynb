{
 "cells": [
  {
   "attachments": {},
   "cell_type": "markdown",
   "metadata": {},
   "source": [
    "![Astrofisica Computacional](../../logo.png)"
   ]
  },
  {
   "attachments": {},
   "cell_type": "markdown",
   "metadata": {
    "id": "0NQKBUbAejFV"
   },
   "source": [
    "# Exercises W01-A"
   ]
  },
  {
   "cell_type": "markdown",
   "metadata": {
    "id": "QsBlwilWejFZ"
   },
   "source": [
    "**Name:** \n",
    "\n",
    "---"
   ]
  },
  {
   "attachments": {},
   "cell_type": "markdown",
   "metadata": {},
   "source": [
    "## 1. Dependencia de la Dispersión de velocidades con la línea [O III] $\\lambda$ 5007\n",
    "\n",
    "Este ejercicio esta basado en los desarrollos del paper\n",
    "\n",
    "T. A. Boroson. *Does the Narrow [O III] λ5007 Line Reflect the Stellar Velocity Dispersion in AGN?*. [Astrophys.J. 585 (2003) 647-652](https://ui.adsabs.harvard.edu/abs/2003ApJ...585..647B/abstract)\n",
    "\n",
    "- Ingrese a la página \n",
    "\n",
    "[https://vizier.cds.unistra.fr/viz-bin/VizieR?-source=J/ApJ/585/647](https://vizier.cds.unistra.fr/viz-bin/VizieR?-source=J/ApJ/585/647)\n",
    "\n",
    "y descargue el archivo de datos, preferiblemente en el formato de `table1.dat` junto con el archivo `ReadMe` correspondiente.\n",
    "\n",
    "- Lea el archivo e identifique las cantidades físicas reportadas en la tabla de datos. Cuantos objetos están catalogados en este archivo?\n",
    "\n",
    "- Realice una gráfica del logaritmo de la masa del agujero negro en masas solares, $\\log M$, contra el logaritmo de la dispersión de velocidades obtenido a partir de la línea [O III] $\\lambda$ 5007, $\\log \\sigma_{[O III]}$. Utilice los siguientes marcadores para la figura, dependiendo del logaritmo de la razón de densidad de flujo entre 5 Ghz y 2500 Angstrom, $\\log R $, : Para objetos radio-ruidosos ($\\log R > 1$ ) utilice circulos, para objetos no observados en radio ($\\log R $ : 'not observed') utilice trangulos y para el resto de objetos (radio-silenciosos) utilice cuadrados. De esta forma se reproducirá La Figura 1 del artículo. \n",
    "\n",
    "\n",
    "\n"
   ]
  },
  {
   "attachments": {},
   "cell_type": "markdown",
   "metadata": {},
   "source": [
    "## 2. AGNs\n",
    "\n",
    "Este ejercicio esta basado en los desarrollos del paper\n",
    "\n",
    "J. R. Trump et. al. *Accretion Rate and the Physical Nature of Unobscured Active Galaxies*. [ApJ 733 60 (2011)](https://ui.adsabs.harvard.edu/abs/2011ApJ...733...60T/abstract)\n",
    "\n",
    "- Ingrese a la página \n",
    "\n",
    "[https://vizier.cds.unistra.fr/viz-bin/VizieR?-source=J/ApJ/733/60](https://vizier.cds.unistra.fr/viz-bin/VizieR?-source=J/ApJ/733/60)\n",
    "\n",
    "y descargue el archivo de datos, preferiblemente en el formato de `table2.dat` junto con el archivo `ReadMe` correspondiente.\n",
    "\n",
    "- Lea el archivo e identifique las cantidades físicas reportadas en la tabla de datos. Cuantos objetos están catalogados en este archivo?\n",
    "\n",
    "- Realice una gráfica del logaritmo de la luminosidad de acreción, $\\log L$, contra el logaritmo de la masa del agujero negro en masas solares, $\\log M$, e incluyendo las líneas de error respectivas. Utilice los siguientes marcadores para la figura, dependiendo del tipo de objeto presentado en la columna 'Type': Para AGNs de líneas anchas (Broad-line) utilice cruces negras, para AGNs de líneas delgadas (Narrow-line) utilice diamantes azules y para AGNs sin lineas (lineless) utilice cuadrados rojos.  \n",
    "\n",
    "\n",
    "\n"
   ]
  },
  {
   "attachments": {},
   "cell_type": "markdown",
   "metadata": {},
   "source": [
    "## 3. Datos de AGNs en el SDSS\n",
    "\n",
    "Este ejercicio esta basado en los desarrollos del paper\n",
    "\n",
    "H. V. Abrahamyan et. al. *Classification by Activity Type of a Sample of Active Galaxies with Radio Emission*. [Astrophysics, Volume 63, Issue 3, p.322-333 (2020)](https://ui.adsabs.harvard.edu/abs/2020Ap.....63..322A/abstract)\n",
    "\n",
    "- Ingrese a la página \n",
    "\n",
    "[https://vizier.cds.unistra.fr/viz-bin/VizieR?-source=J/other/Ap/63.322](https://vizier.cds.unistra.fr/viz-bin/VizieR?-source=J/other/Ap/63.322)\n",
    "\n",
    "y descargue el archivo de datos, preferiblemente en el formato de `table.dat` junto con el archivo `ReadMe` correspondiente.\n",
    "\n",
    "- Lea el archivo e identifique las cantidades físicas reportadas en la tabla de datos. Cuantos objetos están catalogados en este archivo?\n",
    "\n",
    "- Realice una gráfica de magnitud en la banda u contra la magnitud en la banda r, en donde el color de cada objeto depende del redshift respectivo. \n",
    "\n",
    "- Realice una gráfica de magnitud en la banda g contra la magnitud en la banda z, en donde el color de cada objeto depende de la clasificación (old) de objeto. \n",
    "\n",
    "\n",
    "\n"
   ]
  }
 ],
 "metadata": {
  "colab": {
   "collapsed_sections": [],
   "name": "Exercises03.ipynb",
   "provenance": []
  },
  "kernelspec": {
   "display_name": "ashcat",
   "language": "python",
   "name": "python3"
  },
  "language_info": {
   "codemirror_mode": {
    "name": "ipython",
    "version": 3
   },
   "file_extension": ".py",
   "mimetype": "text/x-python",
   "name": "python",
   "nbconvert_exporter": "python",
   "pygments_lexer": "ipython3",
   "version": "3.9.5 | packaged by conda-forge | (default, Jun 19 2021, 00:24:55) \n[Clang 11.1.0 ]"
  },
  "vscode": {
   "interpreter": {
    "hash": "7cedb68cf63e90bc16f84e333713309767fdee79fa6bfd701075226f4fc8e495"
   }
  }
 },
 "nbformat": 4,
 "nbformat_minor": 1
}
